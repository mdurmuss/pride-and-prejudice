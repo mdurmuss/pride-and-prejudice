{
 "cells": [
  {
   "cell_type": "markdown",
   "id": "6a86953b",
   "metadata": {},
   "source": [
    "Download english stopwords using nltk library."
   ]
  },
  {
   "cell_type": "code",
   "execution_count": 1,
   "id": "3d618327",
   "metadata": {},
   "outputs": [],
   "source": [
    "#!pip3 install nltk"
   ]
  },
  {
   "cell_type": "code",
   "execution_count": 2,
   "id": "1ebe2ed3",
   "metadata": {
    "pycharm": {
     "name": "#%%\n"
    }
   },
   "outputs": [
    {
     "name": "stderr",
     "output_type": "stream",
     "text": [
      "[nltk_data] Downloading package stopwords to /Users/md/nltk_data...\n",
      "[nltk_data]   Package stopwords is already up-to-date!\n"
     ]
    }
   ],
   "source": [
    "import nltk\n",
    "nltk.download('stopwords')\n",
    "from nltk.corpus import stopwords"
   ]
  },
  {
   "cell_type": "markdown",
   "id": "27296e09",
   "metadata": {},
   "source": [
    "Download the book as text format from https://www.gutenberg.org/files/1342/1342-0.txt"
   ]
  },
  {
   "cell_type": "code",
   "execution_count": 3,
   "id": "7184ee21",
   "metadata": {
    "pycharm": {
     "name": "#%%\n"
    }
   },
   "outputs": [
    {
     "ename": "FileNotFoundError",
     "evalue": "[Errno 2] No such file or directory: 'pride_prejudice.txt'",
     "output_type": "error",
     "traceback": [
      "\u001b[0;31m---------------------------------------------------------------------------\u001b[0m",
      "\u001b[0;31mFileNotFoundError\u001b[0m                         Traceback (most recent call last)",
      "Input \u001b[0;32mIn [3]\u001b[0m, in \u001b[0;36m<module>\u001b[0;34m\u001b[0m\n\u001b[0;32m----> 1\u001b[0m book_as_str \u001b[38;5;241m=\u001b[39m \u001b[38;5;28;43mopen\u001b[39;49m\u001b[43m(\u001b[49m\u001b[38;5;124;43m\"\u001b[39;49m\u001b[38;5;124;43mpride_prejudice.txt\u001b[39;49m\u001b[38;5;124;43m\"\u001b[39;49m\u001b[43m,\u001b[49m\u001b[43m \u001b[49m\u001b[38;5;124;43m\"\u001b[39;49m\u001b[38;5;124;43mr\u001b[39;49m\u001b[38;5;124;43m\"\u001b[39;49m\u001b[43m)\u001b[49m\u001b[38;5;241m.\u001b[39mread()\n",
      "\u001b[0;31mFileNotFoundError\u001b[0m: [Errno 2] No such file or directory: 'pride_prejudice.txt'"
     ]
    }
   ],
   "source": [
    "book_as_str = open(\"pride_prejudice.txt\", \"r\").read()"
   ]
  },
  {
   "cell_type": "markdown",
   "id": "bdc7c3cb",
   "metadata": {},
   "source": [
    "Remove punctuation."
   ]
  },
  {
   "cell_type": "code",
   "execution_count": null,
   "id": "fe4ad260",
   "metadata": {},
   "outputs": [],
   "source": [
    "import re"
   ]
  },
  {
   "cell_type": "code",
   "execution_count": null,
   "id": "4639519b",
   "metadata": {},
   "outputs": [],
   "source": [
    "book_as_str_without_punct = re.sub(r'[^\\w\\s]', '', book_as_str)"
   ]
  },
  {
   "cell_type": "code",
   "execution_count": null,
   "id": "25fb5fba",
   "metadata": {
    "pycharm": {
     "name": "#%%\n"
    }
   },
   "outputs": [],
   "source": [
    "# first of all remove stopwords for analysis.\n",
    "book_as_list_without_stopwords = [word for word in book_as_str_without_punct.split() if word not in stopwords.words('english')]"
   ]
  },
  {
   "cell_type": "markdown",
   "id": "3ddbb64d",
   "metadata": {},
   "source": [
    "Create frequency list of words."
   ]
  },
  {
   "cell_type": "code",
   "execution_count": null,
   "id": "19b813f0",
   "metadata": {},
   "outputs": [],
   "source": [
    "from collections import Counter"
   ]
  },
  {
   "cell_type": "code",
   "execution_count": null,
   "id": "d25cd60d",
   "metadata": {},
   "outputs": [],
   "source": [
    "word_frequency = Counter(book_as_list_without_stopwords)"
   ]
  },
  {
   "cell_type": "markdown",
   "id": "f8307121",
   "metadata": {},
   "source": [
    "Total word count"
   ]
  },
  {
   "cell_type": "code",
   "execution_count": null,
   "id": "b02a59fb",
   "metadata": {},
   "outputs": [],
   "source": [
    "WORD_COUNT = len(word_frequency)\n",
    "WORD_COUNT"
   ]
  },
  {
   "cell_type": "markdown",
   "id": "227367a9",
   "metadata": {},
   "source": [
    "Total character count"
   ]
  },
  {
   "cell_type": "code",
   "execution_count": null,
   "id": "85215558",
   "metadata": {},
   "outputs": [],
   "source": [
    "CHAR_COUNT = len(\"\".join(book_as_list_without_stopwords))\n",
    "CHAR_COUNT"
   ]
  },
  {
   "cell_type": "markdown",
   "id": "dcc4fa9f",
   "metadata": {},
   "source": [
    "Average word length"
   ]
  },
  {
   "cell_type": "code",
   "execution_count": null,
   "id": "46a0f0bc",
   "metadata": {},
   "outputs": [],
   "source": [
    "AVERAGE_WORD_LEN = CHAR_COUNT / WORD_COUNT\n",
    "AVERAGE_WORD_LEN"
   ]
  },
  {
   "cell_type": "code",
   "execution_count": null,
   "id": "e85e41ce",
   "metadata": {},
   "outputs": [],
   "source": [
    "TOP_10_LONGEST_WORDS = sorted(word_frequency, key=len, reverse=True)[:10]\n",
    "TOP_10_LONGEST_WORDS"
   ]
  },
  {
   "cell_type": "markdown",
   "id": "8328c516",
   "metadata": {},
   "source": [
    "Display with WordCloud"
   ]
  },
  {
   "cell_type": "code",
   "execution_count": null,
   "id": "bbc881cf",
   "metadata": {},
   "outputs": [],
   "source": [
    "#pip3 install wordcloud"
   ]
  },
  {
   "cell_type": "code",
   "execution_count": null,
   "id": "252b4886",
   "metadata": {},
   "outputs": [],
   "source": [
    "from wordcloud import WordCloud"
   ]
  },
  {
   "cell_type": "code",
   "execution_count": null,
   "id": "4be2cf40",
   "metadata": {
    "pycharm": {
     "name": "#%%\n"
    }
   },
   "outputs": [],
   "source": [
    "wordcloud = WordCloud(colormap='prism', background_color='white', max_words=200)\n",
    "wordcloud = wordcloud.fit_words(word_frequency)\n",
    "wordcloud = wordcloud.to_file('wordcloud.png')"
   ]
  },
  {
   "cell_type": "code",
   "execution_count": null,
   "id": "68977702",
   "metadata": {},
   "outputs": [],
   "source": [
    "from IPython.display import Image\n",
    "Image(filename='wordcloud.png')"
   ]
  },
  {
   "cell_type": "code",
   "execution_count": null,
   "id": "773e06ed",
   "metadata": {},
   "outputs": [],
   "source": []
  }
 ],
 "metadata": {
  "kernelspec": {
   "display_name": "Python 3 (ipykernel)",
   "language": "python",
   "name": "python3"
  },
  "language_info": {
   "codemirror_mode": {
    "name": "ipython",
    "version": 3
   },
   "file_extension": ".py",
   "mimetype": "text/x-python",
   "name": "python",
   "nbconvert_exporter": "python",
   "pygments_lexer": "ipython3",
   "version": "3.9.7"
  }
 },
 "nbformat": 4,
 "nbformat_minor": 5
}
